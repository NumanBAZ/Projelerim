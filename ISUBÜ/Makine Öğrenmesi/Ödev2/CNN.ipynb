{
  "cells": [
    {
      "cell_type": "markdown",
      "metadata": {
        "id": "hst2qzlm0K3_"
      },
      "source": [
        "**CNN ile Meyve Tespit Algoritması**\n",
        "\n"
      ]
    },
    {
      "cell_type": "markdown",
      "metadata": {
        "id": "s49Izvhu1N8V"
      },
      "source": [
        "CNN Modelini inşaa etmek için ***Pytorch*** kullanılıyor\n",
        "\n",
        "\n"
      ]
    },
    {
      "cell_type": "code",
      "execution_count": 1,
      "metadata": {
        "id": "OsuWv_lf1fjb"
      },
      "outputs": [],
      "source": [
        "import torch\n",
        "import torch.nn as nn\n",
        "import torch.nn.functional as F\n",
        "from torch.utils.data import DataLoader\n",
        "from torchvision import datasets, transforms"
      ]
    },
    {
      "cell_type": "markdown",
      "metadata": {
        "id": "56MarvRc1kLp"
      },
      "source": [
        "CNN yapısını ilk olarak verilen formattaki gibi yapcağız sonra ise kendimiz bir model inşa edeceğiz"
      ]
    },
    {
      "cell_type": "code",
      "execution_count": 2,
      "metadata": {
        "colab": {
          "base_uri": "https://localhost:8080/"
        },
        "id": "DhsZ1fwu1tux",
        "outputId": "7f948a1e-0067-4709-fbd8-e911708f3af8"
      },
      "outputs": [
        {
          "name": "stdout",
          "output_type": "stream",
          "text": [
            "SimpleCNN(\n",
            "  (conv1): Conv2d(3, 256, kernel_size=(3, 3), stride=(1, 1), padding=(1, 1))\n",
            "  (pool1): MaxPool2d(kernel_size=2, stride=2, padding=0, dilation=1, ceil_mode=False)\n",
            "  (conv2): Conv2d(256, 128, kernel_size=(3, 3), stride=(1, 1), padding=(1, 1))\n",
            "  (pool2): MaxPool2d(kernel_size=2, stride=2, padding=0, dilation=1, ceil_mode=False)\n",
            "  (conv3): Conv2d(128, 64, kernel_size=(3, 3), stride=(1, 1), padding=(1, 1))\n",
            "  (pool3): MaxPool2d(kernel_size=2, stride=2, padding=0, dilation=1, ceil_mode=False)\n",
            "  (flatten): Flatten(start_dim=1, end_dim=-1)\n",
            "  (fc1): Linear(in_features=65536, out_features=64, bias=True)\n",
            "  (fc2): Linear(in_features=64, out_features=10, bias=True)\n",
            ")\n"
          ]
        }
      ],
      "source": [
        "\n",
        "class SimpleCNN(nn.Module):\n",
        "    def __init__(self):\n",
        "        super(SimpleCNN, self).__init__()\n",
        "        self.conv1 = nn.Conv2d(in_channels=3, out_channels=256, kernel_size=3, padding=1)  # Conv2D (3, 256)\n",
        "        self.pool1 = nn.MaxPool2d(kernel_size=2, stride=2)                                  # MaxPooling2D (2, 2)\n",
        "\n",
        "        self.conv2 = nn.Conv2d(in_channels=256, out_channels=128, kernel_size=3, padding=1) # Conv2D (256, 128)\n",
        "        self.pool2 = nn.MaxPool2d(kernel_size=2, stride=2)                                  # MaxPooling2D (2, 2)\n",
        "\n",
        "        self.conv3 = nn.Conv2d(in_channels=128, out_channels=64, kernel_size=3, padding=1)  # Conv2D (128, 64)\n",
        "        self.pool3 = nn.MaxPool2d(kernel_size=2, stride=2)                                  # MaxPooling2D (2, 2)\n",
        "\n",
        "        self.flatten = nn.Flatten()                                                        # Flatten layer\n",
        "        self.fc1 = nn.Linear(64 * 32 * 32, 64)                                             # Dense (Flatten to 64)\n",
        "        self.fc2 = nn.Linear(64, 10)                                                       # Dense (64 to 10)\n",
        "\n",
        "    def forward(self, x):\n",
        "        x = F.relu(self.conv1(x))\n",
        "        x = self.pool1(x)\n",
        "        x = F.relu(self.conv2(x))\n",
        "        x = self.pool2(x)\n",
        "        x = F.relu(self.conv3(x))\n",
        "        x = self.pool3(x)\n",
        "        x = self.flatten(x)\n",
        "        x = F.relu(self.fc1(x))\n",
        "        x = self.fc2(x)\n",
        "        return x\n",
        "\n",
        "\n",
        "# Modeli oluştur\n",
        "model = SimpleCNN()\n",
        "\n",
        "# Modelin özetini yazdır\n",
        "print(model)\n"
      ]
    },
    {
      "cell_type": "markdown",
      "metadata": {
        "id": "YlfD_y9c1xFR"
      },
      "source": [
        "Veri setini eğitime hazır hala getirebilmemiz için ön işlemler uygulanacaktır\n"
      ]
    },
    {
      "cell_type": "code",
      "execution_count": 3,
      "metadata": {
        "id": "BQLO37Py14HN"
      },
      "outputs": [],
      "source": [
        "# Veri seti hazırlığı\n",
        "train_transform = transforms.Compose([\n",
        "    transforms.Resize((256, 256)),\n",
        "    transforms.ToTensor(),\n",
        "])\n",
        "\n",
        "test_transform = transforms.Compose([\n",
        "    transforms.Resize((256, 256)),\n",
        "    transforms.ToTensor(),\n",
        "])"
      ]
    },
    {
      "cell_type": "markdown",
      "metadata": {
        "id": "HTdOcHot176E"
      },
      "source": [
        "Verisetinin bulunduğu yolu sisteme verip etiketler ve resimleri modele vermek için hazır hale getiriyoruz\n"
      ]
    },
    {
      "cell_type": "code",
      "execution_count": 4,
      "metadata": {
        "colab": {
          "base_uri": "https://localhost:8080/",
          "height": 356
        },
        "id": "qYo2hq932FLl",
        "outputId": "c568e71b-ef2c-4011-8629-003e5e37194b"
      },
      "outputs": [],
      "source": [
        "train_dataset = datasets.ImageFolder(root='archive/train_zip', transform=train_transform)\n",
        "test_dataset = datasets.ImageFolder(root='archive/test_zip', transform=test_transform)\n",
        "\n",
        "train_loader = DataLoader(train_dataset, batch_size=32, shuffle=True)\n",
        "test_loader = DataLoader(test_dataset, batch_size=32, shuffle=False)"
      ]
    },
    {
      "cell_type": "markdown",
      "metadata": {},
      "source": [
        "Oluşturduğumuz CNN mimarisini yazdırarak kontrol sağlıyoruz"
      ]
    },
    {
      "cell_type": "code",
      "execution_count": 8,
      "metadata": {},
      "outputs": [
        {
          "name": "stdout",
          "output_type": "stream",
          "text": [
            "SimpleCNN(\n",
            "  (conv1): Conv2d(3, 256, kernel_size=(3, 3), stride=(1, 1), padding=(1, 1))\n",
            "  (pool1): MaxPool2d(kernel_size=2, stride=2, padding=0, dilation=1, ceil_mode=False)\n",
            "  (conv2): Conv2d(256, 128, kernel_size=(3, 3), stride=(1, 1), padding=(1, 1))\n",
            "  (pool2): MaxPool2d(kernel_size=2, stride=2, padding=0, dilation=1, ceil_mode=False)\n",
            "  (conv3): Conv2d(128, 64, kernel_size=(3, 3), stride=(1, 1), padding=(1, 1))\n",
            "  (pool3): MaxPool2d(kernel_size=2, stride=2, padding=0, dilation=1, ceil_mode=False)\n",
            "  (flatten): Flatten(start_dim=1, end_dim=-1)\n",
            "  (fc1): Linear(in_features=65536, out_features=64, bias=True)\n",
            "  (fc2): Linear(in_features=64, out_features=10, bias=True)\n",
            ")\n"
          ]
        }
      ],
      "source": [
        "# Modeli oluştur\n",
        "model = SimpleCNN()\n",
        "print(model)"
      ]
    },
    {
      "cell_type": "markdown",
      "metadata": {
        "id": "iNLjzXMQ2I9g"
      },
      "source": []
    },
    {
      "cell_type": "code",
      "execution_count": 10,
      "metadata": {
        "id": "uzAXHjIp2Vje"
      },
      "outputs": [],
      "source": [
        "\n",
        "# Maliyet fonksiyonu ve optimizer tanımla\n",
        "criterion = nn.CrossEntropyLoss()\n",
        "optimizer = torch.optim.Adam(model.parameters(), lr=0.001)"
      ]
    },
    {
      "cell_type": "markdown",
      "metadata": {
        "id": "Dh1Eekh82V7F"
      },
      "source": [
        "İleri ve geri yayılımları oluşturuyoruz"
      ]
    },
    {
      "cell_type": "code",
      "execution_count": 13,
      "metadata": {
        "id": "2v3WERQe2WRY"
      },
      "outputs": [],
      "source": [
        "# Eğitim döngüsü\n",
        "def train(model, train_loader, criterion, optimizer, device):\n",
        "    model.train()\n",
        "    running_loss = 0.0\n",
        "    for images, labels in train_loader:\n",
        "        images, labels = images.to(device), labels.to(device)\n",
        "\n",
        "        # Sıfırlama\n",
        "        optimizer.zero_grad()\n",
        "\n",
        "        # İleri yayılım\n",
        "        outputs = model(images)\n",
        "        loss = criterion(outputs, labels)\n",
        "\n",
        "        # Geri yayılım ve ağırlık güncellemesi\n",
        "        loss.backward()\n",
        "        optimizer.step()\n",
        "\n",
        "        running_loss += loss.item()\n",
        "    return running_loss / len(train_loader)\n"
      ]
    },
    {
      "cell_type": "markdown",
      "metadata": {
        "id": "I8qBUh232X5s"
      },
      "source": [
        "Modelimizin başarı ölçütünü belirlemek içinde test verilerini dahil ediyoruz"
      ]
    },
    {
      "cell_type": "code",
      "execution_count": 14,
      "metadata": {
        "id": "C29N147y2XoP"
      },
      "outputs": [],
      "source": [
        "# Test döngüsü\n",
        "def test(model, test_loader, criterion, device):\n",
        "    model.eval()\n",
        "    test_loss = 0.0\n",
        "    correct = 0\n",
        "    with torch.no_grad():\n",
        "        for images, labels in test_loader:\n",
        "            images, labels = images.to(device), labels.to(device)\n",
        "\n",
        "            # İleri yayılım\n",
        "            outputs = model(images)\n",
        "            loss = criterion(outputs, labels)\n",
        "\n",
        "            test_loss += loss.item()\n",
        "            _, predicted = torch.max(outputs, 1)\n",
        "            correct += (predicted == labels).sum().item()\n",
        "\n",
        "    accuracy = 100 * correct / len(test_loader.dataset)\n",
        "    return test_loss / len(test_loader), accuracy\n"
      ]
    },
    {
      "cell_type": "markdown",
      "metadata": {
        "id": "lLfRZBSt2cbj"
      },
      "source": [
        "Eğitime başlıyoruz"
      ]
    },
    {
      "cell_type": "code",
      "execution_count": 15,
      "metadata": {
        "id": "Es30fOuJ2cKp"
      },
      "outputs": [
        {
          "name": "stderr",
          "output_type": "stream",
          "text": [
            "c:\\Users\\Pc\\anaconda3\\envs\\isubu\\Lib\\site-packages\\PIL\\Image.py:1054: UserWarning: Palette images with Transparency expressed in bytes should be converted to RGBA images\n",
            "  warnings.warn(\n"
          ]
        },
        {
          "name": "stdout",
          "output_type": "stream",
          "text": [
            "Epoch 1/10, Train Loss: 0.2931, Test Loss: 0.0000, Accuracy: 100.00%\n",
            "Epoch 2/10, Train Loss: 0.0000, Test Loss: 0.0000, Accuracy: 100.00%\n",
            "Epoch 3/10, Train Loss: 0.0000, Test Loss: 0.0000, Accuracy: 100.00%\n",
            "Epoch 4/10, Train Loss: 0.0000, Test Loss: 0.0000, Accuracy: 100.00%\n",
            "Epoch 5/10, Train Loss: 0.0000, Test Loss: 0.0000, Accuracy: 100.00%\n",
            "Epoch 6/10, Train Loss: 0.0000, Test Loss: 0.0000, Accuracy: 100.00%\n",
            "Epoch 7/10, Train Loss: 0.0000, Test Loss: 0.0000, Accuracy: 100.00%\n",
            "Epoch 8/10, Train Loss: 0.0000, Test Loss: 0.0000, Accuracy: 100.00%\n",
            "Epoch 9/10, Train Loss: 0.0000, Test Loss: 0.0000, Accuracy: 100.00%\n",
            "Epoch 10/10, Train Loss: 0.0000, Test Loss: 0.0000, Accuracy: 100.00%\n"
          ]
        }
      ],
      "source": [
        "# Modeli eğitme ve test etme\n",
        "device = torch.device(\"cuda\" if torch.cuda.is_available() else \"cpu\")\n",
        "model.to(device)\n",
        "\n",
        "num_epochs = 10\n",
        "for epoch in range(num_epochs):\n",
        "    train_loss = train(model, train_loader, criterion, optimizer, device)\n",
        "    test_loss, accuracy = test(model, test_loader, criterion, device)\n",
        "\n",
        "    print(f\"Epoch {epoch+1}/{num_epochs}, Train Loss: {train_loss:.4f}, Test Loss: {test_loss:.4f}, Accuracy: {accuracy:.2f}%\")\n"
      ]
    }
  ],
  "metadata": {
    "colab": {
      "provenance": []
    },
    "kernelspec": {
      "display_name": "isubu",
      "language": "python",
      "name": "python3"
    },
    "language_info": {
      "codemirror_mode": {
        "name": "ipython",
        "version": 3
      },
      "file_extension": ".py",
      "mimetype": "text/x-python",
      "name": "python",
      "nbconvert_exporter": "python",
      "pygments_lexer": "ipython3",
      "version": "3.12.8"
    }
  },
  "nbformat": 4,
  "nbformat_minor": 0
}
